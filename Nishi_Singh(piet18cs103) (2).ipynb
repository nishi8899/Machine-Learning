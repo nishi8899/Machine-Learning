{
  "nbformat": 4,
  "nbformat_minor": 0,
  "metadata": {
    "colab": {
      "name": "Nishi Singh(piet18cs103).ipynb",
      "provenance": [],
      "collapsed_sections": []
    },
    "kernelspec": {
      "name": "python3",
      "display_name": "Python 3"
    },
    "language_info": {
      "name": "python"
    }
  },
  "cells": [
    {
      "cell_type": "code",
      "metadata": {
        "id": "rjvbb5EY6t_F"
      },
      "source": [
        "# # Data Preprocessing\n",
        "# Importing the libraries\n",
        "import numpy as np\n",
        "import matplotlib.pyplot as plt\n",
        "import pandas as pd"
      ],
      "execution_count": 1,
      "outputs": []
    },
    {
      "cell_type": "code",
      "metadata": {
        "colab": {
          "base_uri": "https://localhost:8080/"
        },
        "id": "W2l1JWW56uoI",
        "outputId": "98080d79-d50b-440e-ed3f-5938cb970158"
      },
      "source": [
        "from google.colab import drive\n",
        "drive.mount('/content/drive')"
      ],
      "execution_count": 2,
      "outputs": [
        {
          "output_type": "stream",
          "text": [
            "Mounted at /content/drive\n"
          ],
          "name": "stdout"
        }
      ]
    },
    {
      "cell_type": "code",
      "metadata": {
        "colab": {
          "base_uri": "https://localhost:8080/"
        },
        "id": "sUFXkURh6wUP",
        "outputId": "efcdf311-e63d-4543-d49d-3324581fa486"
      },
      "source": [
        "dataset= pd.read_csv('/content/sample_data/main.csv')\n",
        "print(dataset)"
      ],
      "execution_count": 5,
      "outputs": [
        {
          "output_type": "stream",
          "text": [
            "     Gender  Glucose    BP  SkinThickness  ...   BMI  PedigreeFunction  Age  Outcome\n",
            "0      Male      148  72.0           35.0  ...  33.6             0.627   50        1\n",
            "1    Female       85  66.0           29.0  ...  26.6             0.351   31        0\n",
            "2    Female      183  64.0            0.0  ...  23.3             0.672   32        1\n",
            "3    Female       89  66.0           23.0  ...  28.1             0.167   21        0\n",
            "4      Male      137   NaN           35.0  ...  43.1             2.288   33        1\n",
            "..      ...      ...   ...            ...  ...   ...               ...  ...      ...\n",
            "559    Male       85  74.0            0.0  ...  30.1             0.300   35        0\n",
            "560    Male      125  76.0            0.0  ...  33.8             0.121   54        1\n",
            "561    Male      198  66.0           32.0  ...  41.3             0.502   28        1\n",
            "562    Male       87  68.0           34.0  ...  37.6             0.401   24        0\n",
            "563    Male       99  60.0           19.0  ...  26.9             0.497   32        0\n",
            "\n",
            "[564 rows x 9 columns]\n"
          ],
          "name": "stdout"
        }
      ]
    },
    {
      "cell_type": "code",
      "metadata": {
        "colab": {
          "base_uri": "https://localhost:8080/"
        },
        "id": "rM5N4l8z7Xq8",
        "outputId": "c3f8acda-262f-4346-e9fa-1437410b6082"
      },
      "source": [
        "dataset.info()\n"
      ],
      "execution_count": 6,
      "outputs": [
        {
          "output_type": "stream",
          "text": [
            "<class 'pandas.core.frame.DataFrame'>\n",
            "RangeIndex: 564 entries, 0 to 563\n",
            "Data columns (total 9 columns):\n",
            " #   Column            Non-Null Count  Dtype  \n",
            "---  ------            --------------  -----  \n",
            " 0   Gender            564 non-null    object \n",
            " 1   Glucose           564 non-null    int64  \n",
            " 2   BP                548 non-null    float64\n",
            " 3   SkinThickness     553 non-null    float64\n",
            " 4   Insulin           552 non-null    float64\n",
            " 5   BMI               547 non-null    float64\n",
            " 6   PedigreeFunction  546 non-null    float64\n",
            " 7   Age               564 non-null    int64  \n",
            " 8   Outcome           564 non-null    int64  \n",
            "dtypes: float64(5), int64(3), object(1)\n",
            "memory usage: 39.8+ KB\n"
          ],
          "name": "stdout"
        }
      ]
    },
    {
      "cell_type": "code",
      "metadata": {
        "id": "wJquMOnG7-mX"
      },
      "source": [
        "# Extracting dependent and independent variables:\n",
        "# Extracting independent variable:\n",
        "X = dataset.iloc[:,0:7].values\n",
        "# Extracting dependent variable:\n",
        "y = dataset.iloc[:,8].values"
      ],
      "execution_count": 7,
      "outputs": []
    },
    {
      "cell_type": "code",
      "metadata": {
        "colab": {
          "base_uri": "https://localhost:8080/"
        },
        "id": "mlw7Y0oN8F98",
        "outputId": "785d1b95-1e3e-4d1d-f03c-7346f9d49fcd"
      },
      "source": [
        "print(X)\n"
      ],
      "execution_count": 8,
      "outputs": [
        {
          "output_type": "stream",
          "text": [
            "[['Male' 148 72.0 ... 0.0 33.6 0.627]\n",
            " ['Female' 85 66.0 ... 0.0 26.6 0.35100000000000003]\n",
            " ['Female' 183 64.0 ... 0.0 23.3 0.672]\n",
            " ...\n",
            " ['Male' 198 66.0 ... 274.0 41.3 0.502]\n",
            " ['Male' 87 68.0 ... 77.0 37.6 0.401]\n",
            " ['Male' 99 60.0 ... 54.0 26.9 0.49700000000000005]]\n"
          ],
          "name": "stdout"
        }
      ]
    },
    {
      "cell_type": "code",
      "metadata": {
        "colab": {
          "base_uri": "https://localhost:8080/",
          "height": 416
        },
        "id": "PchwvDn28IVP",
        "outputId": "240ea6f4-7bec-4289-a400-2ae5cbc097e1"
      },
      "source": [
        ""
      ],
      "execution_count": 9,
      "outputs": [
        {
          "output_type": "execute_result",
          "data": {
            "text/html": [
              "<div>\n",
              "<style scoped>\n",
              "    .dataframe tbody tr th:only-of-type {\n",
              "        vertical-align: middle;\n",
              "    }\n",
              "\n",
              "    .dataframe tbody tr th {\n",
              "        vertical-align: top;\n",
              "    }\n",
              "\n",
              "    .dataframe thead th {\n",
              "        text-align: right;\n",
              "    }\n",
              "</style>\n",
              "<table border=\"1\" class=\"dataframe\">\n",
              "  <thead>\n",
              "    <tr style=\"text-align: right;\">\n",
              "      <th></th>\n",
              "      <th>Gender</th>\n",
              "      <th>Glucose</th>\n",
              "      <th>BP</th>\n",
              "      <th>SkinThickness</th>\n",
              "      <th>Insulin</th>\n",
              "      <th>BMI</th>\n",
              "      <th>PedigreeFunction</th>\n",
              "      <th>Age</th>\n",
              "      <th>Outcome</th>\n",
              "    </tr>\n",
              "  </thead>\n",
              "  <tbody>\n",
              "    <tr>\n",
              "      <th>0</th>\n",
              "      <td>Male</td>\n",
              "      <td>148</td>\n",
              "      <td>72.0</td>\n",
              "      <td>35.0</td>\n",
              "      <td>0.0</td>\n",
              "      <td>33.6</td>\n",
              "      <td>0.627</td>\n",
              "      <td>50</td>\n",
              "      <td>1</td>\n",
              "    </tr>\n",
              "    <tr>\n",
              "      <th>1</th>\n",
              "      <td>Female</td>\n",
              "      <td>85</td>\n",
              "      <td>66.0</td>\n",
              "      <td>29.0</td>\n",
              "      <td>0.0</td>\n",
              "      <td>26.6</td>\n",
              "      <td>0.351</td>\n",
              "      <td>31</td>\n",
              "      <td>0</td>\n",
              "    </tr>\n",
              "    <tr>\n",
              "      <th>2</th>\n",
              "      <td>Female</td>\n",
              "      <td>183</td>\n",
              "      <td>64.0</td>\n",
              "      <td>0.0</td>\n",
              "      <td>0.0</td>\n",
              "      <td>23.3</td>\n",
              "      <td>0.672</td>\n",
              "      <td>32</td>\n",
              "      <td>1</td>\n",
              "    </tr>\n",
              "    <tr>\n",
              "      <th>3</th>\n",
              "      <td>Female</td>\n",
              "      <td>89</td>\n",
              "      <td>66.0</td>\n",
              "      <td>23.0</td>\n",
              "      <td>94.0</td>\n",
              "      <td>28.1</td>\n",
              "      <td>0.167</td>\n",
              "      <td>21</td>\n",
              "      <td>0</td>\n",
              "    </tr>\n",
              "    <tr>\n",
              "      <th>5</th>\n",
              "      <td>Female</td>\n",
              "      <td>116</td>\n",
              "      <td>74.0</td>\n",
              "      <td>0.0</td>\n",
              "      <td>0.0</td>\n",
              "      <td>25.6</td>\n",
              "      <td>0.201</td>\n",
              "      <td>30</td>\n",
              "      <td>0</td>\n",
              "    </tr>\n",
              "    <tr>\n",
              "      <th>...</th>\n",
              "      <td>...</td>\n",
              "      <td>...</td>\n",
              "      <td>...</td>\n",
              "      <td>...</td>\n",
              "      <td>...</td>\n",
              "      <td>...</td>\n",
              "      <td>...</td>\n",
              "      <td>...</td>\n",
              "      <td>...</td>\n",
              "    </tr>\n",
              "    <tr>\n",
              "      <th>559</th>\n",
              "      <td>Male</td>\n",
              "      <td>85</td>\n",
              "      <td>74.0</td>\n",
              "      <td>0.0</td>\n",
              "      <td>0.0</td>\n",
              "      <td>30.1</td>\n",
              "      <td>0.300</td>\n",
              "      <td>35</td>\n",
              "      <td>0</td>\n",
              "    </tr>\n",
              "    <tr>\n",
              "      <th>560</th>\n",
              "      <td>Male</td>\n",
              "      <td>125</td>\n",
              "      <td>76.0</td>\n",
              "      <td>0.0</td>\n",
              "      <td>0.0</td>\n",
              "      <td>33.8</td>\n",
              "      <td>0.121</td>\n",
              "      <td>54</td>\n",
              "      <td>1</td>\n",
              "    </tr>\n",
              "    <tr>\n",
              "      <th>561</th>\n",
              "      <td>Male</td>\n",
              "      <td>198</td>\n",
              "      <td>66.0</td>\n",
              "      <td>32.0</td>\n",
              "      <td>274.0</td>\n",
              "      <td>41.3</td>\n",
              "      <td>0.502</td>\n",
              "      <td>28</td>\n",
              "      <td>1</td>\n",
              "    </tr>\n",
              "    <tr>\n",
              "      <th>562</th>\n",
              "      <td>Male</td>\n",
              "      <td>87</td>\n",
              "      <td>68.0</td>\n",
              "      <td>34.0</td>\n",
              "      <td>77.0</td>\n",
              "      <td>37.6</td>\n",
              "      <td>0.401</td>\n",
              "      <td>24</td>\n",
              "      <td>0</td>\n",
              "    </tr>\n",
              "    <tr>\n",
              "      <th>563</th>\n",
              "      <td>Male</td>\n",
              "      <td>99</td>\n",
              "      <td>60.0</td>\n",
              "      <td>19.0</td>\n",
              "      <td>54.0</td>\n",
              "      <td>26.9</td>\n",
              "      <td>0.497</td>\n",
              "      <td>32</td>\n",
              "      <td>0</td>\n",
              "    </tr>\n",
              "  </tbody>\n",
              "</table>\n",
              "<p>497 rows × 9 columns</p>\n",
              "</div>"
            ],
            "text/plain": [
              "     Gender  Glucose    BP  SkinThickness  ...   BMI  PedigreeFunction  Age  Outcome\n",
              "0      Male      148  72.0           35.0  ...  33.6             0.627   50        1\n",
              "1    Female       85  66.0           29.0  ...  26.6             0.351   31        0\n",
              "2    Female      183  64.0            0.0  ...  23.3             0.672   32        1\n",
              "3    Female       89  66.0           23.0  ...  28.1             0.167   21        0\n",
              "5    Female      116  74.0            0.0  ...  25.6             0.201   30        0\n",
              "..      ...      ...   ...            ...  ...   ...               ...  ...      ...\n",
              "559    Male       85  74.0            0.0  ...  30.1             0.300   35        0\n",
              "560    Male      125  76.0            0.0  ...  33.8             0.121   54        1\n",
              "561    Male      198  66.0           32.0  ...  41.3             0.502   28        1\n",
              "562    Male       87  68.0           34.0  ...  37.6             0.401   24        0\n",
              "563    Male       99  60.0           19.0  ...  26.9             0.497   32        0\n",
              "\n",
              "[497 rows x 9 columns]"
            ]
          },
          "metadata": {
            "tags": []
          },
          "execution_count": 9
        }
      ]
    },
    {
      "cell_type": "code",
      "metadata": {
        "id": "FK68XjyR9of_"
      },
      "source": [
        "# Feature Scaling\n",
        "from sklearn.preprocessing import StandardScaler\n",
        "sc = StandardScaler()\n",
        "X_train = sc.fit_transform(X_train)\n",
        "X_test = sc.transform(X_test)"
      ],
      "execution_count": 10,
      "outputs": []
    },
    {
      "cell_type": "code",
      "metadata": {
        "colab": {
          "base_uri": "https://localhost:8080/",
          "height": 416
        },
        "id": "v2xuqIs79yKg",
        "outputId": "97f530ec-da0a-44b2-e662-bf041980e6a8"
      },
      "source": [
        "dataset = dataset.dropna()\n",
        "dataset"
      ],
      "execution_count": 15,
      "outputs": [
        {
          "output_type": "execute_result",
          "data": {
            "text/html": [
              "<div>\n",
              "<style scoped>\n",
              "    .dataframe tbody tr th:only-of-type {\n",
              "        vertical-align: middle;\n",
              "    }\n",
              "\n",
              "    .dataframe tbody tr th {\n",
              "        vertical-align: top;\n",
              "    }\n",
              "\n",
              "    .dataframe thead th {\n",
              "        text-align: right;\n",
              "    }\n",
              "</style>\n",
              "<table border=\"1\" class=\"dataframe\">\n",
              "  <thead>\n",
              "    <tr style=\"text-align: right;\">\n",
              "      <th></th>\n",
              "      <th>Gender</th>\n",
              "      <th>Glucose</th>\n",
              "      <th>BP</th>\n",
              "      <th>SkinThickness</th>\n",
              "      <th>Insulin</th>\n",
              "      <th>BMI</th>\n",
              "      <th>PedigreeFunction</th>\n",
              "      <th>Age</th>\n",
              "      <th>Outcome</th>\n",
              "    </tr>\n",
              "  </thead>\n",
              "  <tbody>\n",
              "    <tr>\n",
              "      <th>0</th>\n",
              "      <td>Male</td>\n",
              "      <td>148</td>\n",
              "      <td>72.0</td>\n",
              "      <td>35.0</td>\n",
              "      <td>0.0</td>\n",
              "      <td>33.6</td>\n",
              "      <td>0.627</td>\n",
              "      <td>50</td>\n",
              "      <td>1</td>\n",
              "    </tr>\n",
              "    <tr>\n",
              "      <th>1</th>\n",
              "      <td>Female</td>\n",
              "      <td>85</td>\n",
              "      <td>66.0</td>\n",
              "      <td>29.0</td>\n",
              "      <td>0.0</td>\n",
              "      <td>26.6</td>\n",
              "      <td>0.351</td>\n",
              "      <td>31</td>\n",
              "      <td>0</td>\n",
              "    </tr>\n",
              "    <tr>\n",
              "      <th>2</th>\n",
              "      <td>Female</td>\n",
              "      <td>183</td>\n",
              "      <td>64.0</td>\n",
              "      <td>0.0</td>\n",
              "      <td>0.0</td>\n",
              "      <td>23.3</td>\n",
              "      <td>0.672</td>\n",
              "      <td>32</td>\n",
              "      <td>1</td>\n",
              "    </tr>\n",
              "    <tr>\n",
              "      <th>3</th>\n",
              "      <td>Female</td>\n",
              "      <td>89</td>\n",
              "      <td>66.0</td>\n",
              "      <td>23.0</td>\n",
              "      <td>94.0</td>\n",
              "      <td>28.1</td>\n",
              "      <td>0.167</td>\n",
              "      <td>21</td>\n",
              "      <td>0</td>\n",
              "    </tr>\n",
              "    <tr>\n",
              "      <th>5</th>\n",
              "      <td>Female</td>\n",
              "      <td>116</td>\n",
              "      <td>74.0</td>\n",
              "      <td>0.0</td>\n",
              "      <td>0.0</td>\n",
              "      <td>25.6</td>\n",
              "      <td>0.201</td>\n",
              "      <td>30</td>\n",
              "      <td>0</td>\n",
              "    </tr>\n",
              "    <tr>\n",
              "      <th>...</th>\n",
              "      <td>...</td>\n",
              "      <td>...</td>\n",
              "      <td>...</td>\n",
              "      <td>...</td>\n",
              "      <td>...</td>\n",
              "      <td>...</td>\n",
              "      <td>...</td>\n",
              "      <td>...</td>\n",
              "      <td>...</td>\n",
              "    </tr>\n",
              "    <tr>\n",
              "      <th>559</th>\n",
              "      <td>Male</td>\n",
              "      <td>85</td>\n",
              "      <td>74.0</td>\n",
              "      <td>0.0</td>\n",
              "      <td>0.0</td>\n",
              "      <td>30.1</td>\n",
              "      <td>0.300</td>\n",
              "      <td>35</td>\n",
              "      <td>0</td>\n",
              "    </tr>\n",
              "    <tr>\n",
              "      <th>560</th>\n",
              "      <td>Male</td>\n",
              "      <td>125</td>\n",
              "      <td>76.0</td>\n",
              "      <td>0.0</td>\n",
              "      <td>0.0</td>\n",
              "      <td>33.8</td>\n",
              "      <td>0.121</td>\n",
              "      <td>54</td>\n",
              "      <td>1</td>\n",
              "    </tr>\n",
              "    <tr>\n",
              "      <th>561</th>\n",
              "      <td>Male</td>\n",
              "      <td>198</td>\n",
              "      <td>66.0</td>\n",
              "      <td>32.0</td>\n",
              "      <td>274.0</td>\n",
              "      <td>41.3</td>\n",
              "      <td>0.502</td>\n",
              "      <td>28</td>\n",
              "      <td>1</td>\n",
              "    </tr>\n",
              "    <tr>\n",
              "      <th>562</th>\n",
              "      <td>Male</td>\n",
              "      <td>87</td>\n",
              "      <td>68.0</td>\n",
              "      <td>34.0</td>\n",
              "      <td>77.0</td>\n",
              "      <td>37.6</td>\n",
              "      <td>0.401</td>\n",
              "      <td>24</td>\n",
              "      <td>0</td>\n",
              "    </tr>\n",
              "    <tr>\n",
              "      <th>563</th>\n",
              "      <td>Male</td>\n",
              "      <td>99</td>\n",
              "      <td>60.0</td>\n",
              "      <td>19.0</td>\n",
              "      <td>54.0</td>\n",
              "      <td>26.9</td>\n",
              "      <td>0.497</td>\n",
              "      <td>32</td>\n",
              "      <td>0</td>\n",
              "    </tr>\n",
              "  </tbody>\n",
              "</table>\n",
              "<p>497 rows × 9 columns</p>\n",
              "</div>"
            ],
            "text/plain": [
              "     Gender  Glucose    BP  SkinThickness  ...   BMI  PedigreeFunction  Age  Outcome\n",
              "0      Male      148  72.0           35.0  ...  33.6             0.627   50        1\n",
              "1    Female       85  66.0           29.0  ...  26.6             0.351   31        0\n",
              "2    Female      183  64.0            0.0  ...  23.3             0.672   32        1\n",
              "3    Female       89  66.0           23.0  ...  28.1             0.167   21        0\n",
              "5    Female      116  74.0            0.0  ...  25.6             0.201   30        0\n",
              "..      ...      ...   ...            ...  ...   ...               ...  ...      ...\n",
              "559    Male       85  74.0            0.0  ...  30.1             0.300   35        0\n",
              "560    Male      125  76.0            0.0  ...  33.8             0.121   54        1\n",
              "561    Male      198  66.0           32.0  ...  41.3             0.502   28        1\n",
              "562    Male       87  68.0           34.0  ...  37.6             0.401   24        0\n",
              "563    Male       99  60.0           19.0  ...  26.9             0.497   32        0\n",
              "\n",
              "[497 rows x 9 columns]"
            ]
          },
          "metadata": {
            "tags": []
          },
          "execution_count": 15
        }
      ]
    },
    {
      "cell_type": "code",
      "metadata": {
        "colab": {
          "base_uri": "https://localhost:8080/"
        },
        "id": "wD0kF5Cp90Ww",
        "outputId": "d15b46c1-3bde-4e5b-c52d-6992e485d523"
      },
      "source": [
        "\n",
        "dataset.info()"
      ],
      "execution_count": 17,
      "outputs": [
        {
          "output_type": "stream",
          "text": [
            "<class 'pandas.core.frame.DataFrame'>\n",
            "Int64Index: 497 entries, 0 to 563\n",
            "Data columns (total 9 columns):\n",
            " #   Column            Non-Null Count  Dtype  \n",
            "---  ------            --------------  -----  \n",
            " 0   Gender            497 non-null    object \n",
            " 1   Glucose           497 non-null    int64  \n",
            " 2   BP                497 non-null    float64\n",
            " 3   SkinThickness     497 non-null    float64\n",
            " 4   Insulin           497 non-null    float64\n",
            " 5   BMI               497 non-null    float64\n",
            " 6   PedigreeFunction  497 non-null    float64\n",
            " 7   Age               497 non-null    int64  \n",
            " 8   Outcome           497 non-null    int64  \n",
            "dtypes: float64(5), int64(3), object(1)\n",
            "memory usage: 38.8+ KB\n"
          ],
          "name": "stdout"
        }
      ]
    },
    {
      "cell_type": "code",
      "metadata": {
        "id": "o0Rafj9J97Yr"
      },
      "source": [
        "# Extracting dependent and independent variables:\n",
        "# Extracting independent variable:\n",
        "X = dataset.iloc[:,0:7].values\n",
        "# Extracting dependent variable:\n",
        "y = dataset.iloc[:,8].values"
      ],
      "execution_count": 18,
      "outputs": []
    },
    {
      "cell_type": "code",
      "metadata": {
        "colab": {
          "base_uri": "https://localhost:8080/"
        },
        "id": "0pKRMT7V_CXc",
        "outputId": "c0ef848e-dac6-44e2-9eda-1cc5d40ed1f7"
      },
      "source": [
        "\n",
        "dataset.info()"
      ],
      "execution_count": 19,
      "outputs": [
        {
          "output_type": "stream",
          "text": [
            "<class 'pandas.core.frame.DataFrame'>\n",
            "Int64Index: 497 entries, 0 to 563\n",
            "Data columns (total 9 columns):\n",
            " #   Column            Non-Null Count  Dtype  \n",
            "---  ------            --------------  -----  \n",
            " 0   Gender            497 non-null    object \n",
            " 1   Glucose           497 non-null    int64  \n",
            " 2   BP                497 non-null    float64\n",
            " 3   SkinThickness     497 non-null    float64\n",
            " 4   Insulin           497 non-null    float64\n",
            " 5   BMI               497 non-null    float64\n",
            " 6   PedigreeFunction  497 non-null    float64\n",
            " 7   Age               497 non-null    int64  \n",
            " 8   Outcome           497 non-null    int64  \n",
            "dtypes: float64(5), int64(3), object(1)\n",
            "memory usage: 38.8+ KB\n"
          ],
          "name": "stdout"
        }
      ]
    },
    {
      "cell_type": "code",
      "metadata": {
        "id": "WLfQCJm4_Frj"
      },
      "source": [
        "from sklearn.preprocessing import LabelEncoder\n",
        "labelencoder_X = LabelEncoder()\n",
        "X[:, 0] = labelencoder_X.fit_transform(X[:, 0])"
      ],
      "execution_count": 22,
      "outputs": []
    },
    {
      "cell_type": "code",
      "metadata": {
        "colab": {
          "base_uri": "https://localhost:8080/"
        },
        "id": "p2CNBB4R_i7j",
        "outputId": "b6962732-b271-4ab3-af7c-efdfd5a02929"
      },
      "source": [
        "dataset.isnull().sum()"
      ],
      "execution_count": 24,
      "outputs": [
        {
          "output_type": "execute_result",
          "data": {
            "text/plain": [
              "Gender              0\n",
              "Glucose             0\n",
              "BP                  0\n",
              "SkinThickness       0\n",
              "Insulin             0\n",
              "BMI                 0\n",
              "PedigreeFunction    0\n",
              "Age                 0\n",
              "Outcome             0\n",
              "dtype: int64"
            ]
          },
          "metadata": {
            "tags": []
          },
          "execution_count": 24
        }
      ]
    },
    {
      "cell_type": "code",
      "metadata": {
        "id": "giBUDsSX_3nu"
      },
      "source": [
        "\n",
        "from sklearn.preprocessing import LabelEncoder\n",
        "labelencoder_X = LabelEncoder()\n",
        "X[:, 0] = labelencoder_X.fit_transform(X[:, 0])\n",
        "\n"
      ],
      "execution_count": 25,
      "outputs": []
    },
    {
      "cell_type": "code",
      "metadata": {
        "id": "9Tygk1KN_633"
      },
      "source": [
        "\n",
        "X[:, 1] = labelencoder_X.fit_transform(X[:, 1])"
      ],
      "execution_count": 26,
      "outputs": []
    },
    {
      "cell_type": "code",
      "metadata": {
        "colab": {
          "base_uri": "https://localhost:8080/"
        },
        "id": "e-OBvY1U_9ma",
        "outputId": "eb9de44c-53f9-4953-82d9-0a5304d785c4"
      },
      "source": [
        "print(X)"
      ],
      "execution_count": 27,
      "outputs": [
        {
          "output_type": "stream",
          "text": [
            "[[1 81 72.0 ... 0.0 33.6 0.627]\n",
            " [0 19 66.0 ... 0.0 26.6 0.35100000000000003]\n",
            " [0 111 64.0 ... 0.0 23.3 0.672]\n",
            " ...\n",
            " [1 123 66.0 ... 274.0 41.3 0.502]\n",
            " [1 21 68.0 ... 77.0 37.6 0.401]\n",
            " [1 33 60.0 ... 54.0 26.9 0.49700000000000005]]\n"
          ],
          "name": "stdout"
        }
      ]
    },
    {
      "cell_type": "code",
      "metadata": {
        "id": "hlf2U3-7__1r"
      },
      "source": [
        "from sklearn.model_selection import train_test_split\n",
        "\n",
        "X_train, X_test, y_train, y_test = train_test_split(X, y, test_size = 0.25, random_state = 5)"
      ],
      "execution_count": 28,
      "outputs": []
    },
    {
      "cell_type": "code",
      "metadata": {
        "colab": {
          "base_uri": "https://localhost:8080/"
        },
        "id": "73LIdM-1ACuh",
        "outputId": "959d3db0-188c-4b75-fee6-9fccb0363887"
      },
      "source": [
        "print(X_train)"
      ],
      "execution_count": 29,
      "outputs": [
        {
          "output_type": "stream",
          "text": [
            "[[1 62 80.0 ... 0.0 31.2 0.703]\n",
            " [1 79 70.0 ... 360.0 28.0 0.337]\n",
            " [0 79 78.0 ... 0.0 38.5 0.52]\n",
            " ...\n",
            " [0 43 62.0 ... 129.0 35.8 0.514]\n",
            " [1 9 68.0 ... 45.0 29.7 0.293]\n",
            " [1 49 72.0 ... 0.0 28.9 0.376]]\n"
          ],
          "name": "stdout"
        }
      ]
    },
    {
      "cell_type": "code",
      "metadata": {
        "colab": {
          "base_uri": "https://localhost:8080/"
        },
        "id": "U7wTVpfhAEuX",
        "outputId": "733641a4-d227-4088-9b35-72e28f8ef647"
      },
      "source": [
        "print(X_test)"
      ],
      "execution_count": 30,
      "outputs": [
        {
          "output_type": "stream",
          "text": [
            "[[1 6 78.0 50.0 45.0 33.2 0.42200000000000004]\n",
            " [0 5 70.0 32.0 66.0 25.0 0.187]\n",
            " [0 41 68.0 19.0 0.0 26.5 0.165]\n",
            " [1 25 64.0 24.0 0.0 29.2 0.192]\n",
            " [1 53 0.0 0.0 0.0 19.6 0.8320000000000001]\n",
            " [1 119 78.0 0.0 0.0 23.5 0.129]\n",
            " [1 39 90.0 0.0 0.0 29.6 0.19699999999999998]\n",
            " [0 92 68.0 23.0 132.0 25.5 0.326]\n",
            " [1 108 66.0 39.0 0.0 42.0 1.893]\n",
            " [0 62 84.0 0.0 0.0 28.0 0.284]\n",
            " [0 33 74.0 27.0 0.0 29.0 0.203]\n",
            " [0 90 78.0 0.0 0.0 32.9 0.8029999999999999]\n",
            " [1 102 78.0 32.0 265.0 46.5 1.159]\n",
            " [1 79 70.0 0.0 0.0 37.9 0.33399999999999996]\n",
            " [0 40 52.0 0.0 0.0 31.2 0.38]\n",
            " [0 29 74.0 21.0 73.0 25.9 0.6729999999999999]\n",
            " [0 8 60.0 0.0 0.0 26.8 0.268]\n",
            " [0 76 78.0 0.0 0.0 45.0 0.19]\n",
            " [1 40 70.0 0.0 0.0 34.2 0.251]\n",
            " [0 70 84.0 0.0 0.0 31.2 0.252]\n",
            " [0 26 80.0 0.0 0.0 42.2 0.237]\n",
            " [0 74 74.0 0.0 0.0 27.6 0.244]\n",
            " [1 84 78.0 34.0 171.0 34.2 0.893]\n",
            " [1 62 60.0 12.0 231.0 27.5 0.527]\n",
            " [0 70 108.0 0.0 0.0 48.8 0.22699999999999998]\n",
            " [1 36 52.0 0.0 0.0 25.1 0.078]\n",
            " [1 70 70.0 38.0 0.0 33.2 0.17]\n",
            " [0 24 80.0 14.0 55.0 24.4 0.249]\n",
            " [0 57 74.0 0.0 0.0 34.0 0.22]\n",
            " [1 56 48.0 32.0 165.0 42.1 0.52]\n",
            " [1 29 64.0 0.0 0.0 32.0 0.161]\n",
            " [0 57 70.0 33.0 402.0 35.4 0.282]\n",
            " [1 106 84.0 0.0 0.0 39.9 0.331]\n",
            " [0 115 78.0 0.0 0.0 47.9 0.13699999999999998]\n",
            " [1 58 70.0 18.0 122.0 28.9 1.1440000000000001]\n",
            " [1 19 74.0 22.0 0.0 29.0 1.224]\n",
            " [1 40 80.0 0.0 0.0 23.6 0.13699999999999998]\n",
            " [1 49 76.0 0.0 0.0 31.2 0.34299999999999997]\n",
            " [1 9 52.0 10.0 36.0 27.8 0.26899999999999996]\n",
            " [1 54 78.0 0.0 0.0 25.0 0.409]\n",
            " [1 72 62.0 17.0 210.0 22.1 0.207]\n",
            " [1 41 62.0 13.0 48.0 22.9 0.6779999999999999]\n",
            " [1 71 82.0 0.0 0.0 40.1 0.23600000000000002]\n",
            " [1 28 64.0 25.0 79.0 33.3 0.738]\n",
            " [0 19 78.0 0.0 0.0 31.2 0.382]\n",
            " [1 45 72.0 47.0 207.0 37.1 1.39]\n",
            " [1 123 66.0 32.0 274.0 41.3 0.502]\n",
            " [1 61 72.0 25.0 190.0 32.4 0.5489999999999999]\n",
            " [0 114 68.0 39.0 304.0 37.7 0.254]\n",
            " [1 35 86.0 37.0 0.0 45.6 1.136]\n",
            " [0 43 60.0 8.0 182.0 25.4 0.9470000000000001]\n",
            " [0 0 80.0 32.0 0.0 41.0 0.34600000000000003]\n",
            " [1 35 76.0 0.0 0.0 35.7 0.198]\n",
            " [0 22 58.0 11.0 54.0 24.8 0.267]\n",
            " [0 21 60.0 37.0 75.0 37.2 0.509]\n",
            " [0 47 76.0 0.0 0.0 33.3 0.278]\n",
            " [0 39 0.0 0.0 0.0 0.0 0.305]\n",
            " [0 22 30.0 42.0 99.0 55.0 0.496]\n",
            " [1 15 72.0 15.0 76.0 30.1 0.547]\n",
            " [0 22 74.0 19.0 53.0 29.0 0.22899999999999998]\n",
            " [1 78 0.0 0.0 0.0 44.2 0.63]\n",
            " [1 19 74.0 0.0 0.0 30.1 0.3]\n",
            " [1 21 60.0 18.0 0.0 21.8 0.444]\n",
            " [1 17 66.0 23.0 50.0 32.2 0.49700000000000005]\n",
            " [0 57 80.0 33.0 130.0 33.2 0.305]\n",
            " [0 69 74.0 50.0 204.0 37.4 0.39899999999999997]\n",
            " [1 22 78.0 30.0 0.0 27.6 0.258]\n",
            " [1 68 54.0 0.0 0.0 26.7 0.687]\n",
            " [1 83 62.0 31.0 120.0 35.5 0.6920000000000001]\n",
            " [1 72 80.0 35.0 160.0 31.6 0.361]\n",
            " [1 33 72.0 17.0 0.0 25.6 0.294]\n",
            " [1 54 72.0 22.0 56.0 20.8 0.733]\n",
            " [1 30 78.0 39.0 0.0 37.3 0.23800000000000002]\n",
            " [0 0 74.0 20.0 23.0 27.7 0.299]\n",
            " [0 42 66.0 0.0 0.0 32.4 0.272]\n",
            " [1 24 68.0 8.0 0.0 24.5 1.138]\n",
            " [1 29 72.0 33.0 0.0 37.7 0.37]\n",
            " [0 88 75.0 0.0 0.0 48.3 0.23800000000000002]\n",
            " [1 29 80.0 45.0 92.0 36.5 0.33]\n",
            " [1 122 74.0 0.0 0.0 25.9 1.1909999999999998]\n",
            " [0 21 80.0 0.0 0.0 23.2 0.084]\n",
            " [0 58 70.0 26.0 115.0 31.1 0.205]\n",
            " [1 65 0.0 0.0 0.0 32.9 0.302]\n",
            " [1 33 70.0 16.0 44.0 20.4 0.235]\n",
            " [1 30 68.0 13.0 49.0 21.1 0.647]\n",
            " [0 39 64.0 41.0 142.0 41.5 0.17300000000000001]\n",
            " [0 24 70.0 17.0 0.0 27.3 0.085]\n",
            " [0 60 58.0 24.0 275.0 27.7 1.6]\n",
            " [1 51 80.0 31.0 53.0 45.2 0.08900000000000001]\n",
            " [0 62 110.0 46.0 130.0 67.1 0.319]\n",
            " [1 21 78.0 27.0 32.0 34.6 0.10099999999999999]\n",
            " [0 24 68.0 42.0 0.0 38.2 0.503]\n",
            " [1 2 60.0 0.0 0.0 21.7 0.735]\n",
            " [1 63 70.0 13.0 105.0 25.9 0.47200000000000003]\n",
            " [0 39 68.0 22.0 0.0 20.0 0.23600000000000002]\n",
            " [0 21 0.0 23.0 0.0 28.9 0.773]\n",
            " [0 56 62.0 0.0 0.0 32.0 0.226]\n",
            " [1 80 75.0 0.0 0.0 29.9 0.434]\n",
            " [0 44 66.0 0.0 0.0 31.9 0.47100000000000003]\n",
            " [1 54 68.0 0.0 0.0 29.6 0.7090000000000001]\n",
            " [1 42 62.0 10.0 278.0 25.3 0.8809999999999999]\n",
            " [1 108 78.0 63.0 14.0 59.4 2.42]\n",
            " [0 73 65.0 26.0 130.0 42.6 0.431]\n",
            " [1 114 76.0 27.0 207.0 43.6 1.034]\n",
            " [1 81 66.0 25.0 0.0 32.5 0.256]\n",
            " [0 104 90.0 34.0 300.0 33.7 0.467]\n",
            " [0 99 74.0 0.0 0.0 38.0 0.537]\n",
            " [0 110 74.0 0.0 0.0 30.5 0.345]\n",
            " [0 58 70.0 24.0 110.0 24.3 0.221]\n",
            " [0 29 72.0 0.0 0.0 36.8 0.485]\n",
            " [0 86 62.0 31.0 284.0 32.8 0.237]\n",
            " [0 55 52.0 43.0 158.0 36.2 0.816]\n",
            " [0 18 0.0 0.0 0.0 0.0 0.304]\n",
            " [0 52 58.0 36.0 94.0 33.3 0.261]\n",
            " [0 58 86.0 0.0 0.0 37.6 0.304]\n",
            " [1 46 75.0 32.0 0.0 35.7 0.14800000000000002]\n",
            " [0 80 85.0 54.0 0.0 42.8 0.375]\n",
            " [1 38 64.0 37.0 64.0 33.6 0.51]\n",
            " [1 39 80.0 45.0 191.0 33.7 0.711]\n",
            " [1 36 90.0 39.0 0.0 35.7 0.674]\n",
            " [0 117 68.0 15.0 130.0 30.9 0.299]\n",
            " [1 23 90.0 30.0 0.0 33.5 0.292]\n",
            " [1 94 72.0 41.0 114.0 40.9 0.8170000000000001]\n",
            " [0 8 50.0 10.0 0.0 23.0 0.248]\n",
            " [0 20 68.0 32.0 0.0 35.8 0.23800000000000002]]\n"
          ],
          "name": "stdout"
        }
      ]
    },
    {
      "cell_type": "code",
      "metadata": {
        "colab": {
          "base_uri": "https://localhost:8080/"
        },
        "id": "4C2GR93DAHMl",
        "outputId": "9f4aeef1-244a-4abe-bdf4-73e6dd483e3c"
      },
      "source": [
        "print(y_test)"
      ],
      "execution_count": 32,
      "outputs": [
        {
          "output_type": "stream",
          "text": [
            "[0 0 0 0 0 1 0 1 1 0 0 1 0 1 0 0 0 0 0 0 0 0 1 0 1 0 0 0 1 0 1 0 1 1 1 1 0\n",
            " 1 0 0 0 1 0 0 0 1 1 1 1 1 0 1 0 0 0 1 0 1 0 0 1 0 0 0 0 0 0 0 0 1 0 0 0 0\n",
            " 1 0 0 1 0 1 0 1 1 0 0 0 0 0 0 1 0 1 0 0 0 0 1 0 0 0 0 1 1 1 0 1 1 1 0 0 0\n",
            " 0 0 0 0 0 0 1 1 0 0 0 1 0 0]\n"
          ],
          "name": "stdout"
        }
      ]
    },
    {
      "cell_type": "code",
      "metadata": {
        "colab": {
          "base_uri": "https://localhost:8080/"
        },
        "id": "3yWL9mmLCXAh",
        "outputId": "3c907670-eafd-4289-9f96-57f1c5b5e687"
      },
      "source": [
        "print(y_train)"
      ],
      "execution_count": 33,
      "outputs": [
        {
          "output_type": "stream",
          "text": [
            "[0 1 1 0 0 0 0 0 1 0 0 0 0 0 1 0 0 0 1 1 1 0 0 1 0 0 0 1 0 0 0 1 0 0 0 0 0\n",
            " 0 1 0 1 1 1 0 0 0 0 0 0 0 0 1 0 0 0 1 0 0 0 0 1 1 0 0 0 0 0 1 0 0 1 0 1 0\n",
            " 0 0 0 1 0 0 0 0 0 0 0 0 1 0 0 0 0 1 0 0 1 0 0 1 0 0 1 0 1 0 0 0 0 1 0 1 0\n",
            " 0 0 0 1 0 0 0 1 0 0 0 0 0 1 0 0 0 1 1 0 0 1 1 0 0 1 1 1 1 0 0 1 0 0 0 0 1\n",
            " 0 1 0 0 0 0 0 0 0 0 0 1 0 1 1 0 1 0 0 0 1 0 0 0 0 0 0 1 0 1 0 1 0 0 1 0 0\n",
            " 0 1 1 1 0 0 1 0 0 0 1 0 0 0 1 0 1 1 1 0 0 1 0 0 1 1 0 0 0 0 1 0 0 0 0 0 0\n",
            " 1 0 1 0 0 0 0 0 1 0 1 0 1 0 0 0 1 0 1 0 1 0 0 0 1 0 0 1 1 0 1 0 1 1 0 0 1\n",
            " 0 1 1 0 0 1 0 0 1 0 0 1 0 0 0 1 0 0 0 0 0 0 0 1 0 1 1 0 1 0 0 1 1 1 0 1 0\n",
            " 0 0 0 0 0 0 0 1 1 1 0 0 0 0 0 0 0 0 0 0 1 0 1 1 1 1 1 0 0 0 1 0 0 1 1 1 1\n",
            " 1 1 0 1 1 0 0 0 1 1 0 0 0 0 1 0 0 1 0 0 0 0 0 1 1 1 0 0 1 1 0 1 0 1 0 0 1\n",
            " 0 1]\n"
          ],
          "name": "stdout"
        }
      ]
    },
    {
      "cell_type": "code",
      "metadata": {
        "id": "Nn2F8fP1CdU4"
      },
      "source": [
        "from sklearn.svm import SVC\n",
        "model = SVC()"
      ],
      "execution_count": 35,
      "outputs": []
    },
    {
      "cell_type": "code",
      "metadata": {
        "colab": {
          "base_uri": "https://localhost:8080/"
        },
        "id": "VsjMuBokCk00",
        "outputId": "242e4493-c497-4026-d3ed-44f81a349400"
      },
      "source": [
        "model.fit(X_train, y_train)"
      ],
      "execution_count": 36,
      "outputs": [
        {
          "output_type": "execute_result",
          "data": {
            "text/plain": [
              "SVC(C=1.0, break_ties=False, cache_size=200, class_weight=None, coef0=0.0,\n",
              "    decision_function_shape='ovr', degree=3, gamma='scale', kernel='rbf',\n",
              "    max_iter=-1, probability=False, random_state=None, shrinking=True,\n",
              "    tol=0.001, verbose=False)"
            ]
          },
          "metadata": {
            "tags": []
          },
          "execution_count": 36
        }
      ]
    },
    {
      "cell_type": "code",
      "metadata": {
        "colab": {
          "base_uri": "https://localhost:8080/"
        },
        "id": "QdNRgwthCtmk",
        "outputId": "84d56340-c102-4ab1-af8b-7fc2503e3ef2"
      },
      "source": [
        "# Predicting the Test set results\n",
        "y_pred = model.predict(X_test)\n",
        "y_pred"
      ],
      "execution_count": 37,
      "outputs": [
        {
          "output_type": "execute_result",
          "data": {
            "text/plain": [
              "array([0, 0, 0, 0, 0, 1, 0, 1, 1, 0, 0, 1, 1, 1, 0, 0, 0, 1, 0, 0, 0, 0,\n",
              "       1, 1, 0, 0, 0, 0, 0, 0, 0, 1, 1, 1, 0, 0, 0, 0, 0, 0, 1, 0, 0, 0,\n",
              "       0, 1, 1, 1, 1, 0, 0, 0, 0, 0, 0, 0, 0, 0, 0, 0, 1, 0, 0, 0, 0, 1,\n",
              "       0, 0, 1, 1, 0, 0, 0, 0, 0, 0, 0, 1, 0, 1, 0, 0, 1, 0, 0, 0, 0, 1,\n",
              "       0, 1, 0, 0, 0, 0, 0, 0, 0, 0, 0, 0, 1, 1, 0, 1, 1, 1, 1, 1, 0, 0,\n",
              "       1, 0, 0, 0, 0, 0, 1, 0, 0, 0, 1, 0, 1, 0, 0])"
            ]
          },
          "metadata": {
            "tags": []
          },
          "execution_count": 37
        }
      ]
    },
    {
      "cell_type": "code",
      "metadata": {
        "colab": {
          "base_uri": "https://localhost:8080/"
        },
        "id": "h67YKY_dC2YT",
        "outputId": "7eb83a86-c329-448c-9763-a38c271ab387"
      },
      "source": [
        "# Making the Confusion Matrix\n",
        "from sklearn.metrics import confusion_matrix\n",
        "cm = confusion_matrix(y_test, y_pred)\n",
        "print('Confusion matrix: ')\n",
        "print(cm)"
      ],
      "execution_count": 38,
      "outputs": [
        {
          "output_type": "stream",
          "text": [
            "Confusion matrix: \n",
            "[[70 13]\n",
            " [18 24]]\n"
          ],
          "name": "stdout"
        }
      ]
    },
    {
      "cell_type": "code",
      "metadata": {
        "colab": {
          "base_uri": "https://localhost:8080/"
        },
        "id": "5WdgVHPiC5md",
        "outputId": "ce4e1ae2-c721-4e1d-a469-635b09f997cd"
      },
      "source": [
        "# calculate Accuracy\n",
        "#   0   1\n",
        "# 0[59  7(FP type 1)]\n",
        "#1 [ 11(FN Type 2) 23]= 82/100\n",
        "\n",
        "from sklearn.metrics import accuracy_score\n",
        "print('Accuracy: %.2f' % (accuracy_score(y_test, y_pred)*100))"
      ],
      "execution_count": 39,
      "outputs": [
        {
          "output_type": "stream",
          "text": [
            "Accuracy: 75.20\n"
          ],
          "name": "stdout"
        }
      ]
    },
    {
      "cell_type": "code",
      "metadata": {
        "colab": {
          "base_uri": "https://localhost:8080/"
        },
        "id": "xDBW9OygC-kx",
        "outputId": "ca6984f7-0363-43f1-8217-1f9394a29208"
      },
      "source": [
        "from sklearn.metrics import precision_score\n",
        "from sklearn.metrics import recall_score\n",
        "from sklearn.metrics import f1_score\n",
        "# calculate precision\n",
        "# Precision = TruePositives / (TruePositives + FalsePositives) \n",
        "# calculate Accuracy\n",
        "#   0   1\n",
        "# 0[59  7(FP type 1)]\n",
        "#1 [ 11(FN Type 2) 23]= 23/30\n",
        "precision = precision_score(y_test, y_pred, average='binary')\n",
        "print('Precision: %.2f' % (precision))"
      ],
      "execution_count": 40,
      "outputs": [
        {
          "output_type": "stream",
          "text": [
            "Precision: 0.65\n"
          ],
          "name": "stdout"
        }
      ]
    },
    {
      "cell_type": "code",
      "metadata": {
        "colab": {
          "base_uri": "https://localhost:8080/"
        },
        "id": "d2LxXZFQDBHh",
        "outputId": "6a77794a-0e6d-4b5b-f296-89d27359b215"
      },
      "source": [
        "# calculate recall\n",
        "# Recall = TruePositives / (TruePositives + FalseNegatives)\n",
        "# calculate Accuracy\n",
        "#   0   1\n",
        "# 0[59  7(FP type 1)]\n",
        "#1 [ 11(FN Type 2) 23]= 23/23+11\n",
        "recall = recall_score(y_test, y_pred, average='macro')\n",
        "print('Recall: %.3f' % (recall))"
      ],
      "execution_count": 41,
      "outputs": [
        {
          "output_type": "stream",
          "text": [
            "Recall: 0.707\n"
          ],
          "name": "stdout"
        }
      ]
    },
    {
      "cell_type": "code",
      "metadata": {
        "colab": {
          "base_uri": "https://localhost:8080/"
        },
        "id": "K_YgJKpOD4ka",
        "outputId": "88d40ee2-9811-46d5-9682-0eda75086812"
      },
      "source": [
        "# F-Measure = (2 * Precision * Recall) / (Precision + Recall)\n",
        "# (2*0.829*0.906)/0.829+0.906\n",
        "# calculate score\n",
        "score = f1_score(y_test, y_pred, average='macro')\n",
        "print('F-Measure: %.3f' % (score*100))"
      ],
      "execution_count": 42,
      "outputs": [
        {
          "output_type": "stream",
          "text": [
            "F-Measure: 71.315\n"
          ],
          "name": "stdout"
        }
      ]
    },
    {
      "cell_type": "code",
      "metadata": {
        "colab": {
          "base_uri": "https://localhost:8080/"
        },
        "id": "wyeZEybcD8ar",
        "outputId": "28692763-0278-4860-cde5-bdffd42a995d"
      },
      "source": [
        "import pickle \n",
        "print(\"[INFO] Saving model...\")\n",
        "# Save the trained model as a pickle string. \n",
        "saved_model=pickle.dump(model,open('/content/drive/My Drive/nishi_model.pkl', 'wb')) \n",
        "# Saving model to disk\n",
        " \n",
        "\n",
        "  \n"
      ],
      "execution_count": 45,
      "outputs": [
        {
          "output_type": "stream",
          "text": [
            "[INFO] Saving model...\n"
          ],
          "name": "stdout"
        }
      ]
    },
    {
      "cell_type": "code",
      "metadata": {
        "colab": {
          "base_uri": "https://localhost:8080/"
        },
        "id": "0E8pofWjEZWU",
        "outputId": "ef27afa8-3aa3-4a55-ba28-d3f9f50d3c5e"
      },
      "source": [
        "# Load the pickled model \n",
        "model = pickle.load(open('/content/drive/My Drive/nishi_model.pkl','rb'))  \n",
        "# Use the loaded pickled model to make predictions \n",
        "model.predict(X_test) "
      ],
      "execution_count": 47,
      "outputs": [
        {
          "output_type": "execute_result",
          "data": {
            "text/plain": [
              "array([0, 0, 0, 0, 0, 1, 0, 1, 1, 0, 0, 1, 1, 1, 0, 0, 0, 1, 0, 0, 0, 0,\n",
              "       1, 1, 0, 0, 0, 0, 0, 0, 0, 1, 1, 1, 0, 0, 0, 0, 0, 0, 1, 0, 0, 0,\n",
              "       0, 1, 1, 1, 1, 0, 0, 0, 0, 0, 0, 0, 0, 0, 0, 0, 1, 0, 0, 0, 0, 1,\n",
              "       0, 0, 1, 1, 0, 0, 0, 0, 0, 0, 0, 1, 0, 1, 0, 0, 1, 0, 0, 0, 0, 1,\n",
              "       0, 1, 0, 0, 0, 0, 0, 0, 0, 0, 0, 0, 1, 1, 0, 1, 1, 1, 1, 1, 0, 0,\n",
              "       1, 0, 0, 0, 0, 0, 1, 0, 0, 0, 1, 0, 1, 0, 0])"
            ]
          },
          "metadata": {
            "tags": []
          },
          "execution_count": 47
        }
      ]
    },
    {
      "cell_type": "code",
      "metadata": {
        "colab": {
          "base_uri": "https://localhost:8080/"
        },
        "id": "1LmzK57cExl9",
        "outputId": "e760e2f7-d2ad-40ad-bfee-2bff803a353a"
      },
      "source": [
        "# save the model to disk\n",
        "import joblib\n",
        "filename = '/content/drive/My Drive/nishi_model.sav'\n",
        "joblib.dump(model, filename)\n",
        " \n",
        "# some time later...\n",
        " \n",
        "# load the model from disk\n",
        "loaded_model = joblib.load(filename)\n",
        "result = loaded_model.score(X_test, y_test)\n",
        "print(result)"
      ],
      "execution_count": 49,
      "outputs": [
        {
          "output_type": "stream",
          "text": [
            "0.752\n"
          ],
          "name": "stdout"
        }
      ]
    },
    {
      "cell_type": "code",
      "metadata": {
        "colab": {
          "base_uri": "https://localhost:8080/",
          "height": 1000
        },
        "id": "dvF-XtwjE459",
        "outputId": "84e2d554-506a-49d1-947b-da756a1048fe"
      },
      "source": [
        "!pip install streamlit"
      ],
      "execution_count": 50,
      "outputs": [
        {
          "output_type": "stream",
          "text": [
            "Collecting streamlit\n",
            "\u001b[?25l  Downloading https://files.pythonhosted.org/packages/38/1e/4d594c5374ecf42595612d561ef75d89b34f4ebea3d0e45ec1e024e15265/streamlit-0.84.1-py2.py3-none-any.whl (7.8MB)\n",
            "\u001b[K     |████████████████████████████████| 7.8MB 13.7MB/s \n",
            "\u001b[?25hRequirement already satisfied: requests in /usr/local/lib/python3.7/dist-packages (from streamlit) (2.23.0)\n",
            "Collecting blinker\n",
            "\u001b[?25l  Downloading https://files.pythonhosted.org/packages/1b/51/e2a9f3b757eb802f61dc1f2b09c8c99f6eb01cf06416c0671253536517b6/blinker-1.4.tar.gz (111kB)\n",
            "\u001b[K     |████████████████████████████████| 112kB 66.5MB/s \n",
            "\u001b[?25hRequirement already satisfied: packaging in /usr/local/lib/python3.7/dist-packages (from streamlit) (21.0)\n",
            "Collecting pydeck>=0.1.dev5\n",
            "\u001b[?25l  Downloading https://files.pythonhosted.org/packages/d6/bc/f0e44828e4290367c869591d50d3671a4d0ee94926da6cb734b7b200308c/pydeck-0.6.2-py2.py3-none-any.whl (4.2MB)\n",
            "\u001b[K     |████████████████████████████████| 4.2MB 48.4MB/s \n",
            "\u001b[?25hCollecting validators\n",
            "  Downloading https://files.pythonhosted.org/packages/db/2f/7fed3ee94ad665ad2c1de87f858f10a7785251ff75b4fd47987888d07ef1/validators-0.18.2-py3-none-any.whl\n",
            "Collecting watchdog; platform_system != \"Darwin\"\n",
            "\u001b[?25l  Downloading https://files.pythonhosted.org/packages/6b/d1/b0a1e69af06d2f6f47a11238ca115667d858cbb30baf6b6df03f1b874163/watchdog-2.1.3-py3-none-manylinux2014_x86_64.whl (75kB)\n",
            "\u001b[K     |████████████████████████████████| 81kB 2.2MB/s \n",
            "\u001b[?25hRequirement already satisfied: pyarrow; python_version < \"3.9\" in /usr/local/lib/python3.7/dist-packages (from streamlit) (3.0.0)\n",
            "Requirement already satisfied: tzlocal in /usr/local/lib/python3.7/dist-packages (from streamlit) (1.5.1)\n",
            "Requirement already satisfied: tornado>=5.0 in /usr/local/lib/python3.7/dist-packages (from streamlit) (5.1.1)\n",
            "Requirement already satisfied: astor in /usr/local/lib/python3.7/dist-packages (from streamlit) (0.8.1)\n",
            "Requirement already satisfied: attrs in /usr/local/lib/python3.7/dist-packages (from streamlit) (21.2.0)\n",
            "Requirement already satisfied: altair>=3.2.0 in /usr/local/lib/python3.7/dist-packages (from streamlit) (4.1.0)\n",
            "Requirement already satisfied: pandas>=0.21.0 in /usr/local/lib/python3.7/dist-packages (from streamlit) (1.1.5)\n",
            "Requirement already satisfied: click<8.0,>=7.0 in /usr/local/lib/python3.7/dist-packages (from streamlit) (7.1.2)\n",
            "Collecting gitpython\n",
            "\u001b[?25l  Downloading https://files.pythonhosted.org/packages/bc/91/b38c4fabb6e5092ab23492ded4f318ab7299b19263272b703478038c0fbc/GitPython-3.1.18-py3-none-any.whl (170kB)\n",
            "\u001b[K     |████████████████████████████████| 174kB 82.0MB/s \n",
            "\u001b[?25hCollecting base58\n",
            "  Downloading https://files.pythonhosted.org/packages/b8/a1/d9f565e9910c09fd325dc638765e8843a19fa696275c16cc08cf3b0a3c25/base58-2.1.0-py3-none-any.whl\n",
            "Requirement already satisfied: cachetools>=4.0 in /usr/local/lib/python3.7/dist-packages (from streamlit) (4.2.2)\n",
            "Requirement already satisfied: numpy in /usr/local/lib/python3.7/dist-packages (from streamlit) (1.19.5)\n",
            "Requirement already satisfied: toml in /usr/local/lib/python3.7/dist-packages (from streamlit) (0.10.2)\n",
            "Requirement already satisfied: protobuf!=3.11,>=3.6.0 in /usr/local/lib/python3.7/dist-packages (from streamlit) (3.17.3)\n",
            "Requirement already satisfied: python-dateutil in /usr/local/lib/python3.7/dist-packages (from streamlit) (2.8.1)\n",
            "Requirement already satisfied: pillow>=6.2.0 in /usr/local/lib/python3.7/dist-packages (from streamlit) (7.1.2)\n",
            "Requirement already satisfied: certifi>=2017.4.17 in /usr/local/lib/python3.7/dist-packages (from requests->streamlit) (2021.5.30)\n",
            "Requirement already satisfied: idna<3,>=2.5 in /usr/local/lib/python3.7/dist-packages (from requests->streamlit) (2.10)\n",
            "Requirement already satisfied: urllib3!=1.25.0,!=1.25.1,<1.26,>=1.21.1 in /usr/local/lib/python3.7/dist-packages (from requests->streamlit) (1.24.3)\n",
            "Requirement already satisfied: chardet<4,>=3.0.2 in /usr/local/lib/python3.7/dist-packages (from requests->streamlit) (3.0.4)\n",
            "Requirement already satisfied: pyparsing>=2.0.2 in /usr/local/lib/python3.7/dist-packages (from packaging->streamlit) (2.4.7)\n",
            "Requirement already satisfied: ipywidgets>=7.0.0 in /usr/local/lib/python3.7/dist-packages (from pydeck>=0.1.dev5->streamlit) (7.6.3)\n",
            "Requirement already satisfied: traitlets>=4.3.2 in /usr/local/lib/python3.7/dist-packages (from pydeck>=0.1.dev5->streamlit) (5.0.5)\n",
            "Requirement already satisfied: jinja2>=2.10.1 in /usr/local/lib/python3.7/dist-packages (from pydeck>=0.1.dev5->streamlit) (2.11.3)\n",
            "Collecting ipykernel>=5.1.2; python_version >= \"3.4\"\n",
            "\u001b[?25l  Downloading https://files.pythonhosted.org/packages/13/8e/1d868a67488f99692c2604907cdb87ab7da586fa114d5f0f177c83f1aee1/ipykernel-6.0.2-py3-none-any.whl (122kB)\n",
            "\u001b[K     |████████████████████████████████| 122kB 67.3MB/s \n",
            "\u001b[?25hRequirement already satisfied: six>=1.4.0 in /usr/local/lib/python3.7/dist-packages (from validators->streamlit) (1.15.0)\n",
            "Requirement already satisfied: decorator>=3.4.0 in /usr/local/lib/python3.7/dist-packages (from validators->streamlit) (4.4.2)\n",
            "Requirement already satisfied: pytz in /usr/local/lib/python3.7/dist-packages (from tzlocal->streamlit) (2018.9)\n",
            "Requirement already satisfied: entrypoints in /usr/local/lib/python3.7/dist-packages (from altair>=3.2.0->streamlit) (0.3)\n",
            "Requirement already satisfied: jsonschema in /usr/local/lib/python3.7/dist-packages (from altair>=3.2.0->streamlit) (2.6.0)\n",
            "Requirement already satisfied: toolz in /usr/local/lib/python3.7/dist-packages (from altair>=3.2.0->streamlit) (0.11.1)\n",
            "Collecting gitdb<5,>=4.0.1\n",
            "\u001b[?25l  Downloading https://files.pythonhosted.org/packages/ea/e8/f414d1a4f0bbc668ed441f74f44c116d9816833a48bf81d22b697090dba8/gitdb-4.0.7-py3-none-any.whl (63kB)\n",
            "\u001b[K     |████████████████████████████████| 71kB 9.2MB/s \n",
            "\u001b[?25hRequirement already satisfied: typing-extensions>=3.7.4.0; python_version < \"3.8\" in /usr/local/lib/python3.7/dist-packages (from gitpython->streamlit) (3.7.4.3)\n",
            "Requirement already satisfied: widgetsnbextension~=3.5.0 in /usr/local/lib/python3.7/dist-packages (from ipywidgets>=7.0.0->pydeck>=0.1.dev5->streamlit) (3.5.1)\n",
            "Requirement already satisfied: ipython>=4.0.0; python_version >= \"3.3\" in /usr/local/lib/python3.7/dist-packages (from ipywidgets>=7.0.0->pydeck>=0.1.dev5->streamlit) (5.5.0)\n",
            "Requirement already satisfied: nbformat>=4.2.0 in /usr/local/lib/python3.7/dist-packages (from ipywidgets>=7.0.0->pydeck>=0.1.dev5->streamlit) (5.1.3)\n",
            "Requirement already satisfied: jupyterlab-widgets>=1.0.0; python_version >= \"3.6\" in /usr/local/lib/python3.7/dist-packages (from ipywidgets>=7.0.0->pydeck>=0.1.dev5->streamlit) (1.0.0)\n",
            "Requirement already satisfied: ipython-genutils in /usr/local/lib/python3.7/dist-packages (from traitlets>=4.3.2->pydeck>=0.1.dev5->streamlit) (0.2.0)\n",
            "Requirement already satisfied: MarkupSafe>=0.23 in /usr/local/lib/python3.7/dist-packages (from jinja2>=2.10.1->pydeck>=0.1.dev5->streamlit) (2.0.1)\n",
            "Collecting importlib-metadata<4; python_version < \"3.8.0\"\n",
            "  Downloading https://files.pythonhosted.org/packages/52/d0/bdb31463f2d9ca111e39b268518e9baa3542ef73ca449b711a7b4da69764/importlib_metadata-3.10.1-py3-none-any.whl\n",
            "Requirement already satisfied: matplotlib-inline<0.2.0,>=0.1.0 in /usr/local/lib/python3.7/dist-packages (from ipykernel>=5.1.2; python_version >= \"3.4\"->pydeck>=0.1.dev5->streamlit) (0.1.2)\n",
            "Requirement already satisfied: debugpy<2.0,>=1.0.0 in /usr/local/lib/python3.7/dist-packages (from ipykernel>=5.1.2; python_version >= \"3.4\"->pydeck>=0.1.dev5->streamlit) (1.0.0)\n",
            "Requirement already satisfied: jupyter-client<7.0 in /usr/local/lib/python3.7/dist-packages (from ipykernel>=5.1.2; python_version >= \"3.4\"->pydeck>=0.1.dev5->streamlit) (5.3.5)\n",
            "Collecting smmap<5,>=3.0.1\n",
            "  Downloading https://files.pythonhosted.org/packages/68/ee/d540eb5e5996eb81c26ceffac6ee49041d473bc5125f2aa995cf51ec1cf1/smmap-4.0.0-py2.py3-none-any.whl\n",
            "Requirement already satisfied: notebook>=4.4.1 in /usr/local/lib/python3.7/dist-packages (from widgetsnbextension~=3.5.0->ipywidgets>=7.0.0->pydeck>=0.1.dev5->streamlit) (5.3.1)\n",
            "Requirement already satisfied: simplegeneric>0.8 in /usr/local/lib/python3.7/dist-packages (from ipython>=4.0.0; python_version >= \"3.3\"->ipywidgets>=7.0.0->pydeck>=0.1.dev5->streamlit) (0.8.1)\n",
            "Requirement already satisfied: pexpect; sys_platform != \"win32\" in /usr/local/lib/python3.7/dist-packages (from ipython>=4.0.0; python_version >= \"3.3\"->ipywidgets>=7.0.0->pydeck>=0.1.dev5->streamlit) (4.8.0)\n",
            "Requirement already satisfied: pygments in /usr/local/lib/python3.7/dist-packages (from ipython>=4.0.0; python_version >= \"3.3\"->ipywidgets>=7.0.0->pydeck>=0.1.dev5->streamlit) (2.6.1)\n",
            "Requirement already satisfied: pickleshare in /usr/local/lib/python3.7/dist-packages (from ipython>=4.0.0; python_version >= \"3.3\"->ipywidgets>=7.0.0->pydeck>=0.1.dev5->streamlit) (0.7.5)\n",
            "Requirement already satisfied: setuptools>=18.5 in /usr/local/lib/python3.7/dist-packages (from ipython>=4.0.0; python_version >= \"3.3\"->ipywidgets>=7.0.0->pydeck>=0.1.dev5->streamlit) (57.2.0)\n",
            "Requirement already satisfied: prompt-toolkit<2.0.0,>=1.0.4 in /usr/local/lib/python3.7/dist-packages (from ipython>=4.0.0; python_version >= \"3.3\"->ipywidgets>=7.0.0->pydeck>=0.1.dev5->streamlit) (1.0.18)\n",
            "Requirement already satisfied: jupyter-core in /usr/local/lib/python3.7/dist-packages (from nbformat>=4.2.0->ipywidgets>=7.0.0->pydeck>=0.1.dev5->streamlit) (4.7.1)\n",
            "Requirement already satisfied: zipp>=0.5 in /usr/local/lib/python3.7/dist-packages (from importlib-metadata<4; python_version < \"3.8.0\"->ipykernel>=5.1.2; python_version >= \"3.4\"->pydeck>=0.1.dev5->streamlit) (3.5.0)\n",
            "Requirement already satisfied: pyzmq>=13 in /usr/local/lib/python3.7/dist-packages (from jupyter-client<7.0->ipykernel>=5.1.2; python_version >= \"3.4\"->pydeck>=0.1.dev5->streamlit) (22.1.0)\n",
            "Requirement already satisfied: Send2Trash in /usr/local/lib/python3.7/dist-packages (from notebook>=4.4.1->widgetsnbextension~=3.5.0->ipywidgets>=7.0.0->pydeck>=0.1.dev5->streamlit) (1.7.1)\n",
            "Requirement already satisfied: terminado>=0.8.1 in /usr/local/lib/python3.7/dist-packages (from notebook>=4.4.1->widgetsnbextension~=3.5.0->ipywidgets>=7.0.0->pydeck>=0.1.dev5->streamlit) (0.10.1)\n",
            "Requirement already satisfied: nbconvert in /usr/local/lib/python3.7/dist-packages (from notebook>=4.4.1->widgetsnbextension~=3.5.0->ipywidgets>=7.0.0->pydeck>=0.1.dev5->streamlit) (5.6.1)\n",
            "Requirement already satisfied: ptyprocess>=0.5 in /usr/local/lib/python3.7/dist-packages (from pexpect; sys_platform != \"win32\"->ipython>=4.0.0; python_version >= \"3.3\"->ipywidgets>=7.0.0->pydeck>=0.1.dev5->streamlit) (0.7.0)\n",
            "Requirement already satisfied: wcwidth in /usr/local/lib/python3.7/dist-packages (from prompt-toolkit<2.0.0,>=1.0.4->ipython>=4.0.0; python_version >= \"3.3\"->ipywidgets>=7.0.0->pydeck>=0.1.dev5->streamlit) (0.2.5)\n",
            "Requirement already satisfied: mistune<2,>=0.8.1 in /usr/local/lib/python3.7/dist-packages (from nbconvert->notebook>=4.4.1->widgetsnbextension~=3.5.0->ipywidgets>=7.0.0->pydeck>=0.1.dev5->streamlit) (0.8.4)\n",
            "Requirement already satisfied: testpath in /usr/local/lib/python3.7/dist-packages (from nbconvert->notebook>=4.4.1->widgetsnbextension~=3.5.0->ipywidgets>=7.0.0->pydeck>=0.1.dev5->streamlit) (0.5.0)\n",
            "Requirement already satisfied: pandocfilters>=1.4.1 in /usr/local/lib/python3.7/dist-packages (from nbconvert->notebook>=4.4.1->widgetsnbextension~=3.5.0->ipywidgets>=7.0.0->pydeck>=0.1.dev5->streamlit) (1.4.3)\n",
            "Requirement already satisfied: defusedxml in /usr/local/lib/python3.7/dist-packages (from nbconvert->notebook>=4.4.1->widgetsnbextension~=3.5.0->ipywidgets>=7.0.0->pydeck>=0.1.dev5->streamlit) (0.7.1)\n",
            "Requirement already satisfied: bleach in /usr/local/lib/python3.7/dist-packages (from nbconvert->notebook>=4.4.1->widgetsnbextension~=3.5.0->ipywidgets>=7.0.0->pydeck>=0.1.dev5->streamlit) (3.3.0)\n",
            "Requirement already satisfied: webencodings in /usr/local/lib/python3.7/dist-packages (from bleach->nbconvert->notebook>=4.4.1->widgetsnbextension~=3.5.0->ipywidgets>=7.0.0->pydeck>=0.1.dev5->streamlit) (0.5.1)\n",
            "Building wheels for collected packages: blinker\n",
            "  Building wheel for blinker (setup.py) ... \u001b[?25l\u001b[?25hdone\n",
            "  Created wheel for blinker: filename=blinker-1.4-cp37-none-any.whl size=13476 sha256=f4e64a59cf4dba5cb14ae2a2e9385eb929aa69e6fbc316a44e7ce410f3b951b1\n",
            "  Stored in directory: /root/.cache/pip/wheels/92/a0/00/8690a57883956a301d91cf4ec999cc0b258b01e3f548f86e89\n",
            "Successfully built blinker\n",
            "\u001b[31mERROR: ipykernel 6.0.2 has requirement ipython<8.0,>=7.23.1, but you'll have ipython 5.5.0 which is incompatible.\u001b[0m\n",
            "\u001b[31mERROR: google-colab 1.0.0 has requirement ipykernel~=4.10, but you'll have ipykernel 6.0.2 which is incompatible.\u001b[0m\n",
            "Installing collected packages: blinker, importlib-metadata, ipykernel, pydeck, validators, watchdog, smmap, gitdb, gitpython, base58, streamlit\n",
            "  Found existing installation: importlib-metadata 4.6.1\n",
            "    Uninstalling importlib-metadata-4.6.1:\n",
            "      Successfully uninstalled importlib-metadata-4.6.1\n",
            "  Found existing installation: ipykernel 4.10.1\n",
            "    Uninstalling ipykernel-4.10.1:\n",
            "      Successfully uninstalled ipykernel-4.10.1\n",
            "Successfully installed base58-2.1.0 blinker-1.4 gitdb-4.0.7 gitpython-3.1.18 importlib-metadata-3.10.1 ipykernel-6.0.2 pydeck-0.6.2 smmap-4.0.0 streamlit-0.84.1 validators-0.18.2 watchdog-2.1.3\n"
          ],
          "name": "stdout"
        },
        {
          "output_type": "display_data",
          "data": {
            "application/vnd.colab-display-data+json": {
              "pip_warning": {
                "packages": [
                  "ipykernel"
                ]
              }
            }
          },
          "metadata": {
            "tags": []
          }
        }
      ]
    },
    {
      "cell_type": "code",
      "metadata": {
        "colab": {
          "base_uri": "https://localhost:8080/"
        },
        "id": "znLWaeDbE-LL",
        "outputId": "073d5f0a-6546-451e-aa1f-f45c1f549ff0"
      },
      "source": [
        "\n",
        "# Mounting Google Drive\n",
        "from google.colab import drive\n",
        "drive.mount('/content/drive')"
      ],
      "execution_count": 51,
      "outputs": [
        {
          "output_type": "stream",
          "text": [
            "Drive already mounted at /content/drive; to attempt to forcibly remount, call drive.mount(\"/content/drive\", force_remount=True).\n"
          ],
          "name": "stdout"
        }
      ]
    },
    {
      "cell_type": "code",
      "metadata": {
        "id": "mVnWZ_IfFDYA"
      },
      "source": [
        "# Load the pickled model\n",
        "import pickle\n",
        "pickle_in = open(\"/content/drive/My Drive/nishi_model.pkl\",\"rb\")\n",
        "model=pickle.load(pickle_in)"
      ],
      "execution_count": 52,
      "outputs": []
    },
    {
      "cell_type": "code",
      "metadata": {
        "colab": {
          "base_uri": "https://localhost:8080/"
        },
        "id": "MUoYxdqEFGEo",
        "outputId": "7c73b7c5-4586-44dc-c6af-69ecb8e0d7c0"
      },
      "source": [
        "%%writefile app.py\n",
        "import streamlit as st \n",
        "from PIL import Image\n",
        "import pickle\n",
        "import numpy as np\n",
        "import matplotlib.pyplot as plt\n",
        "import pandas as pd\n",
        "st.set_option('deprecation.showfileUploaderEncoding', False)\n",
        "# Load the pickled model\n",
        "model = pickle.load(open('/content/drive/My Drive/nishi_model.pkl', 'rb')) \n",
        "# Feature Scaling\n",
        "dataset = pd.read_csv('/content/drive/My Drive/main.csv')\n",
        "# Extracting independent variable:\n",
        "X = dataset.iloc[:, [1,2,3,4,5,6,7]].values\n",
        "# Encoding the Independent Variable\n",
        "from sklearn.preprocessing import LabelEncoder\n",
        "labelencoder_X = LabelEncoder()\n",
        "X[:, 0] = labelencoder_X.fit_transform(X[:, 0])\n",
        "\n",
        "def predict_note_authentication(Gender,Glucose,BP,SkinThickness, Insulin, BMI , PedigreeFunction):\n",
        "  output= model.predict([[Gender,Glucose,BP,SkinThickness, Insulin, BMI , PedigreeFunction]])\n",
        "  print(\"heartdisease\", output)\n",
        "  if output==[0]:\n",
        "    prediction=\"No Heartdisease\"\n",
        "  else :\n",
        "    prediction=\"Heartdisease\"\n",
        "  \n",
        "  print(prediction)\n",
        "  return prediction\n",
        "def main():\n",
        "    \n",
        "    html_temp = \"\"\"\n",
        "   <div class=\"\" style=\"background-color:Brown;\" >\n",
        "   <div class=\"clearfix\">           \n",
        "   <div class=\"col-md-12\">\n",
        "   <center><p style=\"font-size:40px;color:black;margin-top:10px;\">Poornima Institute of Engineering & Technology</p></center> \n",
        "   <center><p style=\"font-size:30px;color:black;margin-top:10px;\">Department of Computer Engineering</p></center> \n",
        "   <center><p style=\"font-size:25px;color:black;margin-top:10px;\"Machine Learning Endterm lab Experiment</p></center> \n",
        "   </div>\n",
        "   </div>\n",
        "   </div>\n",
        "   \"\"\"\n",
        "    st.markdown(html_temp,unsafe_allow_html=True)\n",
        "    st.header(\"Heartdisease Predictor\")\n",
        "\n",
        "    Gender = st.number_input('Insert a Gender',0,1)\n",
        "    Glucose= st.number_input('Insert a 1-4 ')\n",
        "    BP=st.number_input('Insert a BP reading ')\n",
        "    SkinThickness = st.number_input('Insert between 100 - 200 ')\n",
        "    Insulin = st.number_input('Insert between 100 - 400 ')\n",
        "    BMI = st.number_input('Insert 0 or 1 ')\n",
        "    PedigreeFunction = st.number_input('Insert  ')\n",
        "\n",
        "    \n",
        "   \n",
        "    resul=\"\"\n",
        "    if st.button(\"Predict\"):\n",
        "      result=predict_note_authentication(Gender,Glucose,BP,SkinThickness, Insulin, BMI , PedigreeFunction)\n",
        "      st.success('Model has predicted {}'.format(result))\n",
        "      \n",
        "    if st.button(\"About\"):\n",
        "      st.subheader(\"Developed by Nishi Singh\")\n",
        "      st.subheader(\"Head , Department of Computer Engineering\")\n",
        "\n",
        "if __name__=='__main__':\n",
        "  main()"
      ],
      "execution_count": 75,
      "outputs": [
        {
          "output_type": "stream",
          "text": [
            "Overwriting app.py\n"
          ],
          "name": "stdout"
        }
      ]
    },
    {
      "cell_type": "code",
      "metadata": {
        "colab": {
          "base_uri": "https://localhost:8080/"
        },
        "id": "onqeUIxwGYyd",
        "outputId": "da162dab-dd46-4d94-ceac-d7e4d2bedd19"
      },
      "source": [
        "!nohup streamlit run  app.py &"
      ],
      "execution_count": 76,
      "outputs": [
        {
          "output_type": "stream",
          "text": [
            "nohup: appending output to 'nohup.out'\n"
          ],
          "name": "stdout"
        }
      ]
    },
    {
      "cell_type": "code",
      "metadata": {
        "colab": {
          "base_uri": "https://localhost:8080/"
        },
        "id": "Z9m-LwioGcKh",
        "outputId": "6e7accaf-7d29-4666-b4c6-58c3c95faf51"
      },
      "source": [
        "!pip install pyngrok\n"
      ],
      "execution_count": 55,
      "outputs": [
        {
          "output_type": "stream",
          "text": [
            "Collecting pyngrok\n",
            "\u001b[?25l  Downloading https://files.pythonhosted.org/packages/6b/4e/a2fe095bbe17cf26424c4abcd22a0490e22d01cc628f25af5e220ddbf6f0/pyngrok-5.0.5.tar.gz (745kB)\n",
            "\r\u001b[K     |▍                               | 10kB 22.9MB/s eta 0:00:01\r\u001b[K     |▉                               | 20kB 28.0MB/s eta 0:00:01\r\u001b[K     |█▎                              | 30kB 33.9MB/s eta 0:00:01\r\u001b[K     |█▊                              | 40kB 24.8MB/s eta 0:00:01\r\u001b[K     |██▏                             | 51kB 15.9MB/s eta 0:00:01\r\u001b[K     |██▋                             | 61kB 15.3MB/s eta 0:00:01\r\u001b[K     |███                             | 71kB 14.8MB/s eta 0:00:01\r\u001b[K     |███▌                            | 81kB 14.5MB/s eta 0:00:01\r\u001b[K     |████                            | 92kB 15.3MB/s eta 0:00:01\r\u001b[K     |████▍                           | 102kB 13.9MB/s eta 0:00:01\r\u001b[K     |████▉                           | 112kB 13.9MB/s eta 0:00:01\r\u001b[K     |█████▎                          | 122kB 13.9MB/s eta 0:00:01\r\u001b[K     |█████▊                          | 133kB 13.9MB/s eta 0:00:01\r\u001b[K     |██████▏                         | 143kB 13.9MB/s eta 0:00:01\r\u001b[K     |██████▋                         | 153kB 13.9MB/s eta 0:00:01\r\u001b[K     |███████                         | 163kB 13.9MB/s eta 0:00:01\r\u001b[K     |███████▌                        | 174kB 13.9MB/s eta 0:00:01\r\u001b[K     |████████                        | 184kB 13.9MB/s eta 0:00:01\r\u001b[K     |████████▍                       | 194kB 13.9MB/s eta 0:00:01\r\u001b[K     |████████▉                       | 204kB 13.9MB/s eta 0:00:01\r\u001b[K     |█████████▎                      | 215kB 13.9MB/s eta 0:00:01\r\u001b[K     |█████████▊                      | 225kB 13.9MB/s eta 0:00:01\r\u001b[K     |██████████▏                     | 235kB 13.9MB/s eta 0:00:01\r\u001b[K     |██████████▌                     | 245kB 13.9MB/s eta 0:00:01\r\u001b[K     |███████████                     | 256kB 13.9MB/s eta 0:00:01\r\u001b[K     |███████████▍                    | 266kB 13.9MB/s eta 0:00:01\r\u001b[K     |███████████▉                    | 276kB 13.9MB/s eta 0:00:01\r\u001b[K     |████████████▎                   | 286kB 13.9MB/s eta 0:00:01\r\u001b[K     |████████████▊                   | 296kB 13.9MB/s eta 0:00:01\r\u001b[K     |█████████████▏                  | 307kB 13.9MB/s eta 0:00:01\r\u001b[K     |█████████████▋                  | 317kB 13.9MB/s eta 0:00:01\r\u001b[K     |██████████████                  | 327kB 13.9MB/s eta 0:00:01\r\u001b[K     |██████████████▌                 | 337kB 13.9MB/s eta 0:00:01\r\u001b[K     |███████████████                 | 348kB 13.9MB/s eta 0:00:01\r\u001b[K     |███████████████▍                | 358kB 13.9MB/s eta 0:00:01\r\u001b[K     |███████████████▉                | 368kB 13.9MB/s eta 0:00:01\r\u001b[K     |████████████████▎               | 378kB 13.9MB/s eta 0:00:01\r\u001b[K     |████████████████▊               | 389kB 13.9MB/s eta 0:00:01\r\u001b[K     |█████████████████▏              | 399kB 13.9MB/s eta 0:00:01\r\u001b[K     |█████████████████▋              | 409kB 13.9MB/s eta 0:00:01\r\u001b[K     |██████████████████              | 419kB 13.9MB/s eta 0:00:01\r\u001b[K     |██████████████████▌             | 430kB 13.9MB/s eta 0:00:01\r\u001b[K     |███████████████████             | 440kB 13.9MB/s eta 0:00:01\r\u001b[K     |███████████████████▍            | 450kB 13.9MB/s eta 0:00:01\r\u001b[K     |███████████████████▉            | 460kB 13.9MB/s eta 0:00:01\r\u001b[K     |████████████████████▎           | 471kB 13.9MB/s eta 0:00:01\r\u001b[K     |████████████████████▊           | 481kB 13.9MB/s eta 0:00:01\r\u001b[K     |█████████████████████           | 491kB 13.9MB/s eta 0:00:01\r\u001b[K     |█████████████████████▌          | 501kB 13.9MB/s eta 0:00:01\r\u001b[K     |██████████████████████          | 512kB 13.9MB/s eta 0:00:01\r\u001b[K     |██████████████████████▍         | 522kB 13.9MB/s eta 0:00:01\r\u001b[K     |██████████████████████▉         | 532kB 13.9MB/s eta 0:00:01\r\u001b[K     |███████████████████████▎        | 542kB 13.9MB/s eta 0:00:01\r\u001b[K     |███████████████████████▊        | 552kB 13.9MB/s eta 0:00:01\r\u001b[K     |████████████████████████▏       | 563kB 13.9MB/s eta 0:00:01\r\u001b[K     |████████████████████████▋       | 573kB 13.9MB/s eta 0:00:01\r\u001b[K     |█████████████████████████       | 583kB 13.9MB/s eta 0:00:01\r\u001b[K     |█████████████████████████▌      | 593kB 13.9MB/s eta 0:00:01\r\u001b[K     |██████████████████████████      | 604kB 13.9MB/s eta 0:00:01\r\u001b[K     |██████████████████████████▍     | 614kB 13.9MB/s eta 0:00:01\r\u001b[K     |██████████████████████████▉     | 624kB 13.9MB/s eta 0:00:01\r\u001b[K     |███████████████████████████▎    | 634kB 13.9MB/s eta 0:00:01\r\u001b[K     |███████████████████████████▊    | 645kB 13.9MB/s eta 0:00:01\r\u001b[K     |████████████████████████████▏   | 655kB 13.9MB/s eta 0:00:01\r\u001b[K     |████████████████████████████▋   | 665kB 13.9MB/s eta 0:00:01\r\u001b[K     |█████████████████████████████   | 675kB 13.9MB/s eta 0:00:01\r\u001b[K     |█████████████████████████████▌  | 686kB 13.9MB/s eta 0:00:01\r\u001b[K     |██████████████████████████████  | 696kB 13.9MB/s eta 0:00:01\r\u001b[K     |██████████████████████████████▍ | 706kB 13.9MB/s eta 0:00:01\r\u001b[K     |██████████████████████████████▉ | 716kB 13.9MB/s eta 0:00:01\r\u001b[K     |███████████████████████████████▏| 727kB 13.9MB/s eta 0:00:01\r\u001b[K     |███████████████████████████████▋| 737kB 13.9MB/s eta 0:00:01\r\u001b[K     |████████████████████████████████| 747kB 13.9MB/s \n",
            "\u001b[?25hRequirement already satisfied: PyYAML in /usr/local/lib/python3.7/dist-packages (from pyngrok) (3.13)\n",
            "Building wheels for collected packages: pyngrok\n",
            "  Building wheel for pyngrok (setup.py) ... \u001b[?25l\u001b[?25hdone\n",
            "  Created wheel for pyngrok: filename=pyngrok-5.0.5-cp37-none-any.whl size=19262 sha256=5c5464ccdaeb754d5ca0540b1558ef269737dac20f7d8c80e14d4c0aad0240e4\n",
            "  Stored in directory: /root/.cache/pip/wheels/0c/13/64/5ebbcc22eaf53fdf5766b397c1fb17c83f5775fdccf0ea1b88\n",
            "Successfully built pyngrok\n",
            "Installing collected packages: pyngrok\n",
            "Successfully installed pyngrok-5.0.5\n"
          ],
          "name": "stdout"
        }
      ]
    },
    {
      "cell_type": "code",
      "metadata": {
        "colab": {
          "base_uri": "https://localhost:8080/"
        },
        "id": "BubKRwrQGd6l",
        "outputId": "ffcc64a3-adbe-4bf6-896b-6d8325afdf3b"
      },
      "source": [
        "!ngrok authtoken 1sO8VjMd7JuRjhyolG3kzPT2jZT_ZqPnyoqHxbwFu2oNKpZm"
      ],
      "execution_count": 56,
      "outputs": [
        {
          "output_type": "stream",
          "text": [
            "Authtoken saved to configuration file: /root/.ngrok2/ngrok.yml\n"
          ],
          "name": "stdout"
        }
      ]
    },
    {
      "cell_type": "code",
      "metadata": {
        "colab": {
          "base_uri": "https://localhost:8080/"
        },
        "id": "iGceJ5Q1Glfb",
        "outputId": "78a8f9ce-6506-4f5e-f7b5-d6f39fe2d546"
      },
      "source": [
        "from pyngrok import ngrok\n",
        "url=ngrok.connect(port='8050')\n",
        "url\n"
      ],
      "execution_count": 77,
      "outputs": [
        {
          "output_type": "execute_result",
          "data": {
            "text/plain": [
              "<NgrokTunnel: \"http://a6e0701120f4.ngrok.io\" -> \"http://localhost:80\">"
            ]
          },
          "metadata": {
            "tags": []
          },
          "execution_count": 77
        }
      ]
    },
    {
      "cell_type": "code",
      "metadata": {
        "colab": {
          "base_uri": "https://localhost:8080/"
        },
        "id": "yIIVByvtGnbG",
        "outputId": "32342d75-429d-498f-92d7-73549feac757"
      },
      "source": [
        " !streamlit run --server.port 80 app.py"
      ],
      "execution_count": 78,
      "outputs": [
        {
          "output_type": "stream",
          "text": [
            "\u001b[0m\n",
            "\u001b[34m\u001b[1m  You can now view your Streamlit app in your browser.\u001b[0m\n",
            "\u001b[0m\n",
            "\u001b[34m  Network URL: \u001b[0m\u001b[1mhttp://172.28.0.2:80\u001b[0m\n",
            "\u001b[34m  External URL: \u001b[0m\u001b[1mhttp://34.91.190.143:80\u001b[0m\n",
            "\u001b[0m\n",
            "heartdisease [0]\n",
            "No Heartdisease\n",
            "\u001b[34m  Stopping...\u001b[0m\n",
            "^C\n"
          ],
          "name": "stdout"
        }
      ]
    },
    {
      "cell_type": "code",
      "metadata": {
        "id": "WYjA22A-Gpku"
      },
      "source": [
        ""
      ],
      "execution_count": 58,
      "outputs": []
    }
  ]
}